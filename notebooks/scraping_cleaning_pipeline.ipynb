{
 "cells": [
  {
   "cell_type": "markdown",
   "metadata": {},
   "source": [
    "# Data processing and storage\n",
    "The following sections will handle the scraped data stored in json files. We start by opening our data file, in our case it's raw_study_in_germany_data.json"
   ]
  },
  {
   "cell_type": "code",
   "execution_count": 1,
   "metadata": {},
   "outputs": [],
   "source": [
    "# Extracting the crawler's data from the output file\n",
    "import rootutils\n",
    "notebook_path = \"../notebooks/scraping_cleaning_pipeline.ipynb\"\n",
    "rootutils.setup_root(search_from=notebook_path, indicator='.project_root', pythonpath=True)\n",
    "\n",
    "import json\n",
    "file_path = '../temporary_folder/output'\n",
    "\n",
    "with open(file_path+'.json', 'r', encoding='utf-8') as file:\n",
    "    raw_data = json.load(file)"
   ]
  },
  {
   "cell_type": "markdown",
   "metadata": {},
   "source": [
    "We create functions to handle and remove personal information from the raw scraped data. We also make an LLM call (OpanAI API) for further processing and to define whether the resulting information is relevant to students who would like to study/live in Germany.\n",
    "\n",
    "Before running this code, make sure to run `python -m spacy download en_core_web_sm` in your terminal."
   ]
  },
  {
   "cell_type": "code",
   "execution_count": 5,
   "metadata": {},
   "outputs": [
    {
     "name": "stdout",
     "output_type": "stream",
     "text": [
      "Collecting spacy\n",
      "  Downloading spacy-3.8.7-cp310-cp310-macosx_11_0_arm64.whl.metadata (27 kB)\n",
      "Collecting spacy-legacy<3.1.0,>=3.0.11 (from spacy)\n",
      "  Downloading spacy_legacy-3.0.12-py2.py3-none-any.whl.metadata (2.8 kB)\n",
      "Collecting spacy-loggers<2.0.0,>=1.0.0 (from spacy)\n",
      "  Downloading spacy_loggers-1.0.5-py3-none-any.whl.metadata (23 kB)\n",
      "Collecting murmurhash<1.1.0,>=0.28.0 (from spacy)\n",
      "  Downloading murmurhash-1.0.13-cp310-cp310-macosx_11_0_arm64.whl.metadata (2.2 kB)\n",
      "Collecting cymem<2.1.0,>=2.0.2 (from spacy)\n",
      "  Downloading cymem-2.0.11-cp310-cp310-macosx_11_0_arm64.whl.metadata (8.5 kB)\n",
      "Collecting preshed<3.1.0,>=3.0.2 (from spacy)\n",
      "  Downloading preshed-3.0.10-cp310-cp310-macosx_11_0_arm64.whl.metadata (2.4 kB)\n",
      "Collecting thinc<8.4.0,>=8.3.4 (from spacy)\n",
      "  Downloading thinc-8.3.6-cp310-cp310-macosx_11_0_arm64.whl.metadata (15 kB)\n",
      "Collecting wasabi<1.2.0,>=0.9.1 (from spacy)\n",
      "  Downloading wasabi-1.1.3-py3-none-any.whl.metadata (28 kB)\n",
      "Collecting srsly<3.0.0,>=2.4.3 (from spacy)\n",
      "  Downloading srsly-2.5.1-cp310-cp310-macosx_11_0_arm64.whl.metadata (19 kB)\n",
      "Collecting catalogue<2.1.0,>=2.0.6 (from spacy)\n",
      "  Downloading catalogue-2.0.10-py3-none-any.whl.metadata (14 kB)\n",
      "Collecting weasel<0.5.0,>=0.1.0 (from spacy)\n",
      "  Downloading weasel-0.4.1-py3-none-any.whl.metadata (4.6 kB)\n",
      "Requirement already satisfied: typer<1.0.0,>=0.3.0 in /Users/rissal.hedna/Desktop/unillm-backend/.venv/lib/python3.10/site-packages (from spacy) (0.16.0)\n",
      "Requirement already satisfied: tqdm<5.0.0,>=4.38.0 in /Users/rissal.hedna/Desktop/unillm-backend/.venv/lib/python3.10/site-packages (from spacy) (4.67.1)\n",
      "Requirement already satisfied: numpy>=1.19.0 in /Users/rissal.hedna/Desktop/unillm-backend/.venv/lib/python3.10/site-packages (from spacy) (2.2.6)\n",
      "Requirement already satisfied: requests<3.0.0,>=2.13.0 in /Users/rissal.hedna/Desktop/unillm-backend/.venv/lib/python3.10/site-packages (from spacy) (2.32.4)\n",
      "Requirement already satisfied: pydantic!=1.8,!=1.8.1,<3.0.0,>=1.7.4 in /Users/rissal.hedna/Desktop/unillm-backend/.venv/lib/python3.10/site-packages (from spacy) (2.11.7)\n",
      "Requirement already satisfied: jinja2 in /Users/rissal.hedna/Desktop/unillm-backend/.venv/lib/python3.10/site-packages (from spacy) (3.1.6)\n",
      "Requirement already satisfied: setuptools in /Users/rissal.hedna/Desktop/unillm-backend/.venv/lib/python3.10/site-packages (from spacy) (80.9.0)\n",
      "Requirement already satisfied: packaging>=20.0 in /Users/rissal.hedna/Desktop/unillm-backend/.venv/lib/python3.10/site-packages (from spacy) (24.2)\n",
      "Collecting langcodes<4.0.0,>=3.2.0 (from spacy)\n",
      "  Downloading langcodes-3.5.0-py3-none-any.whl.metadata (29 kB)\n",
      "Collecting language-data>=1.2 (from langcodes<4.0.0,>=3.2.0->spacy)\n",
      "  Downloading language_data-1.3.0-py3-none-any.whl.metadata (4.3 kB)\n",
      "Requirement already satisfied: annotated-types>=0.6.0 in /Users/rissal.hedna/Desktop/unillm-backend/.venv/lib/python3.10/site-packages (from pydantic!=1.8,!=1.8.1,<3.0.0,>=1.7.4->spacy) (0.7.0)\n",
      "Requirement already satisfied: pydantic-core==2.33.2 in /Users/rissal.hedna/Desktop/unillm-backend/.venv/lib/python3.10/site-packages (from pydantic!=1.8,!=1.8.1,<3.0.0,>=1.7.4->spacy) (2.33.2)\n",
      "Requirement already satisfied: typing-extensions>=4.12.2 in /Users/rissal.hedna/Desktop/unillm-backend/.venv/lib/python3.10/site-packages (from pydantic!=1.8,!=1.8.1,<3.0.0,>=1.7.4->spacy) (4.14.0)\n",
      "Requirement already satisfied: typing-inspection>=0.4.0 in /Users/rissal.hedna/Desktop/unillm-backend/.venv/lib/python3.10/site-packages (from pydantic!=1.8,!=1.8.1,<3.0.0,>=1.7.4->spacy) (0.4.1)\n",
      "Requirement already satisfied: charset_normalizer<4,>=2 in /Users/rissal.hedna/Desktop/unillm-backend/.venv/lib/python3.10/site-packages (from requests<3.0.0,>=2.13.0->spacy) (3.4.2)\n",
      "Requirement already satisfied: idna<4,>=2.5 in /Users/rissal.hedna/Desktop/unillm-backend/.venv/lib/python3.10/site-packages (from requests<3.0.0,>=2.13.0->spacy) (3.10)\n",
      "Requirement already satisfied: urllib3<3,>=1.21.1 in /Users/rissal.hedna/Desktop/unillm-backend/.venv/lib/python3.10/site-packages (from requests<3.0.0,>=2.13.0->spacy) (2.5.0)\n",
      "Requirement already satisfied: certifi>=2017.4.17 in /Users/rissal.hedna/Desktop/unillm-backend/.venv/lib/python3.10/site-packages (from requests<3.0.0,>=2.13.0->spacy) (2025.6.15)\n",
      "Collecting blis<1.4.0,>=1.3.0 (from thinc<8.4.0,>=8.3.4->spacy)\n",
      "  Downloading blis-1.3.0-cp310-cp310-macosx_11_0_arm64.whl.metadata (7.4 kB)\n",
      "Collecting confection<1.0.0,>=0.0.1 (from thinc<8.4.0,>=8.3.4->spacy)\n",
      "  Downloading confection-0.1.5-py3-none-any.whl.metadata (19 kB)\n",
      "Requirement already satisfied: click>=8.0.0 in /Users/rissal.hedna/Desktop/unillm-backend/.venv/lib/python3.10/site-packages (from typer<1.0.0,>=0.3.0->spacy) (8.2.1)\n",
      "Requirement already satisfied: shellingham>=1.3.0 in /Users/rissal.hedna/Desktop/unillm-backend/.venv/lib/python3.10/site-packages (from typer<1.0.0,>=0.3.0->spacy) (1.5.4)\n",
      "Requirement already satisfied: rich>=10.11.0 in /Users/rissal.hedna/Desktop/unillm-backend/.venv/lib/python3.10/site-packages (from typer<1.0.0,>=0.3.0->spacy) (14.0.0)\n",
      "Collecting cloudpathlib<1.0.0,>=0.7.0 (from weasel<0.5.0,>=0.1.0->spacy)\n",
      "  Downloading cloudpathlib-0.21.1-py3-none-any.whl.metadata (14 kB)\n",
      "Collecting smart-open<8.0.0,>=5.2.1 (from weasel<0.5.0,>=0.1.0->spacy)\n",
      "  Using cached smart_open-7.1.0-py3-none-any.whl.metadata (24 kB)\n",
      "Requirement already satisfied: MarkupSafe>=2.0 in /Users/rissal.hedna/Desktop/unillm-backend/.venv/lib/python3.10/site-packages (from jinja2->spacy) (3.0.2)\n",
      "Collecting marisa-trie>=1.1.0 (from language-data>=1.2->langcodes<4.0.0,>=3.2.0->spacy)\n",
      "  Using cached marisa_trie-1.2.1-cp310-cp310-macosx_11_0_arm64.whl.metadata (9.0 kB)\n",
      "Requirement already satisfied: markdown-it-py>=2.2.0 in /Users/rissal.hedna/Desktop/unillm-backend/.venv/lib/python3.10/site-packages (from rich>=10.11.0->typer<1.0.0,>=0.3.0->spacy) (3.0.0)\n",
      "Requirement already satisfied: pygments<3.0.0,>=2.13.0 in /Users/rissal.hedna/Desktop/unillm-backend/.venv/lib/python3.10/site-packages (from rich>=10.11.0->typer<1.0.0,>=0.3.0->spacy) (2.19.2)\n",
      "Requirement already satisfied: wrapt in /Users/rissal.hedna/Desktop/unillm-backend/.venv/lib/python3.10/site-packages (from smart-open<8.0.0,>=5.2.1->weasel<0.5.0,>=0.1.0->spacy) (1.17.2)\n",
      "Requirement already satisfied: mdurl~=0.1 in /Users/rissal.hedna/Desktop/unillm-backend/.venv/lib/python3.10/site-packages (from markdown-it-py>=2.2.0->rich>=10.11.0->typer<1.0.0,>=0.3.0->spacy) (0.1.2)\n",
      "Downloading spacy-3.8.7-cp310-cp310-macosx_11_0_arm64.whl (6.3 MB)\n",
      "\u001b[2K   \u001b[90m━━━━━━━━━━━━━━━━━━━━━━━━━━━━━━━━━━━━━━━━\u001b[0m \u001b[32m6.3/6.3 MB\u001b[0m \u001b[31m6.1 MB/s\u001b[0m eta \u001b[36m0:00:00\u001b[0ma \u001b[36m0:00:01\u001b[0m\n",
      "\u001b[?25hDownloading catalogue-2.0.10-py3-none-any.whl (17 kB)\n",
      "Downloading cymem-2.0.11-cp310-cp310-macosx_11_0_arm64.whl (41 kB)\n",
      "Downloading langcodes-3.5.0-py3-none-any.whl (182 kB)\n",
      "Downloading murmurhash-1.0.13-cp310-cp310-macosx_11_0_arm64.whl (26 kB)\n",
      "Downloading preshed-3.0.10-cp310-cp310-macosx_11_0_arm64.whl (127 kB)\n",
      "Downloading spacy_legacy-3.0.12-py2.py3-none-any.whl (29 kB)\n",
      "Downloading spacy_loggers-1.0.5-py3-none-any.whl (22 kB)\n",
      "Downloading srsly-2.5.1-cp310-cp310-macosx_11_0_arm64.whl (634 kB)\n",
      "\u001b[2K   \u001b[90m━━━━━━━━━━━━━━━━━━━━━━━━━━━━━━━━━━━━━━━━\u001b[0m \u001b[32m634.4/634.4 kB\u001b[0m \u001b[31m9.5 MB/s\u001b[0m eta \u001b[36m0:00:00\u001b[0m\n",
      "\u001b[?25hDownloading thinc-8.3.6-cp310-cp310-macosx_11_0_arm64.whl (844 kB)\n",
      "\u001b[2K   \u001b[90m━━━━━━━━━━━━━━━━━━━━━━━━━━━━━━━━━━━━━━━━\u001b[0m \u001b[32m844.9/844.9 kB\u001b[0m \u001b[31m9.0 MB/s\u001b[0m eta \u001b[36m0:00:00\u001b[0m\n",
      "\u001b[?25hDownloading wasabi-1.1.3-py3-none-any.whl (27 kB)\n",
      "Downloading weasel-0.4.1-py3-none-any.whl (50 kB)\n",
      "Downloading blis-1.3.0-cp310-cp310-macosx_11_0_arm64.whl (1.3 MB)\n",
      "\u001b[2K   \u001b[90m━━━━━━━━━━━━━━━━━━━━━━━━━━━━━━━━━━━━━━━━\u001b[0m \u001b[32m1.3/1.3 MB\u001b[0m \u001b[31m9.1 MB/s\u001b[0m eta \u001b[36m0:00:00\u001b[0ma \u001b[36m0:00:01\u001b[0m\n",
      "\u001b[?25hDownloading cloudpathlib-0.21.1-py3-none-any.whl (52 kB)\n",
      "Downloading confection-0.1.5-py3-none-any.whl (35 kB)\n",
      "Downloading language_data-1.3.0-py3-none-any.whl (5.4 MB)\n",
      "\u001b[2K   \u001b[90m━━━━━━━━━━━━━━━━━━━━━━━━━━━━━━━━━━━━━━━━\u001b[0m \u001b[32m5.4/5.4 MB\u001b[0m \u001b[31m6.8 MB/s\u001b[0m eta \u001b[36m0:00:00\u001b[0ma \u001b[36m0:00:01\u001b[0m\n",
      "\u001b[?25hUsing cached smart_open-7.1.0-py3-none-any.whl (61 kB)\n",
      "Using cached marisa_trie-1.2.1-cp310-cp310-macosx_11_0_arm64.whl (174 kB)\n",
      "Installing collected packages: cymem, wasabi, spacy-loggers, spacy-legacy, smart-open, murmurhash, marisa-trie, cloudpathlib, catalogue, blis, srsly, preshed, language-data, langcodes, confection, weasel, thinc, spacy\n",
      "Successfully installed blis-1.3.0 catalogue-2.0.10 cloudpathlib-0.21.1 confection-0.1.5 cymem-2.0.11 langcodes-3.5.0 language-data-1.3.0 marisa-trie-1.2.1 murmurhash-1.0.13 preshed-3.0.10 smart-open-7.1.0 spacy-3.8.7 spacy-legacy-3.0.12 spacy-loggers-1.0.5 srsly-2.5.1 thinc-8.3.6 wasabi-1.1.3 weasel-0.4.1\n",
      "\n",
      "\u001b[1m[\u001b[0m\u001b[34;49mnotice\u001b[0m\u001b[1;39;49m]\u001b[0m\u001b[39;49m A new release of pip is available: \u001b[0m\u001b[31;49m25.0.1\u001b[0m\u001b[39;49m -> \u001b[0m\u001b[32;49m25.1.1\u001b[0m\n",
      "\u001b[1m[\u001b[0m\u001b[34;49mnotice\u001b[0m\u001b[1;39;49m]\u001b[0m\u001b[39;49m To update, run: \u001b[0m\u001b[32;49mpip install --upgrade pip\u001b[0m\n",
      "Collecting en-core-web-sm==3.8.0\n",
      "  Downloading https://github.com/explosion/spacy-models/releases/download/en_core_web_sm-3.8.0/en_core_web_sm-3.8.0-py3-none-any.whl (12.8 MB)\n",
      "\u001b[2K     \u001b[90m━━━━━━━━━━━━━━━━━━━━━━━━━━━━━━━━━━━━━━━━\u001b[0m \u001b[32m12.8/12.8 MB\u001b[0m \u001b[31m6.8 MB/s\u001b[0m eta \u001b[36m0:00:00\u001b[0ma \u001b[36m0:00:01\u001b[0m\n",
      "\u001b[?25hInstalling collected packages: en-core-web-sm\n",
      "Successfully installed en-core-web-sm-3.8.0\n",
      "\n",
      "\u001b[1m[\u001b[0m\u001b[34;49mnotice\u001b[0m\u001b[1;39;49m]\u001b[0m\u001b[39;49m A new release of pip is available: \u001b[0m\u001b[31;49m25.0.1\u001b[0m\u001b[39;49m -> \u001b[0m\u001b[32;49m25.1.1\u001b[0m\n",
      "\u001b[1m[\u001b[0m\u001b[34;49mnotice\u001b[0m\u001b[1;39;49m]\u001b[0m\u001b[39;49m To update, run: \u001b[0m\u001b[32;49mpip install --upgrade pip\u001b[0m\n",
      "\u001b[38;5;2m✔ Download and installation successful\u001b[0m\n",
      "You can now load the package via spacy.load('en_core_web_sm')\n"
     ]
    }
   ],
   "source": [
    "!pip install spacy\n",
    "!python -m spacy download en_core_web_sm"
   ]
  },
  {
   "cell_type": "code",
   "execution_count": 12,
   "metadata": {},
   "outputs": [],
   "source": [
    "import json\n",
    "import re\n",
    "import os\n",
    "import pandas as pd\n",
    "from openai import OpenAI\n",
    "import spacy\n",
    "\n",
    "# Optional: Import OpenAI if using LLM-based cleaning\n",
    "# try:\n",
    "#     OPENAI_API_KEY = os.getenv('OPENAI_API_KEY')  # Ensure your API key is set as an environment variable\n",
    "#     client = OpenAI()\n",
    "# except ImportError:\n",
    "#     OpenAI = None\n",
    "#     print(\"OpenAI library not found. LLM-based cleaning will be skipped.\")\n",
    "\n",
    "# Initialize spaCy model\n",
    "nlp = spacy.load(\"en_core_web_sm\")\n",
    "\n",
    "def remove_emails(text):\n",
    "    \"\"\"Remove email addresses from text.\"\"\"\n",
    "    email_pattern = r'\\S+@\\S+'\n",
    "    return re.sub(email_pattern, '[EMAIL]', text)\n",
    "\n",
    "def remove_phone_numbers(text):\n",
    "    \"\"\"Remove phone numbers from text.\"\"\"\n",
    "    phone_pattern = r'\\+?\\d[\\d -]{8,}\\d'\n",
    "    return re.sub(phone_pattern, '[PHONE]', text)\n",
    "\n",
    "def remove_names(text):\n",
    "    \"\"\"Remove person names using spaCy's NER.\"\"\"\n",
    "    doc = nlp(text)\n",
    "    entities = [(ent.start_char, ent.end_char, ent.label_) for ent in doc.ents if ent.label_ == 'PERSON']\n",
    "    cleaned_text = text\n",
    "    # Replace names with [NAME]\n",
    "    for start, end, label in reversed(entities):\n",
    "        cleaned_text = cleaned_text[:start] + '[NAME]' + cleaned_text[end:]\n",
    "    return cleaned_text\n",
    "\n",
    "def remove_addresses(text):\n",
    "    \"\"\"Remove addresses using regex and spaCy.\"\"\"\n",
    "    # Simple regex pattern for addresses (can be enhanced)\n",
    "    address_pattern = r'\\d{1,5}\\s\\w+\\s(?:Street|St|Avenue|Ave|Boulevard|Blvd|Road|Rd|Lane|Ln|Drive|Dr)\\b[\\w\\s,.-]*'\n",
    "    text = re.sub(address_pattern, '[ADDRESS]', text)\n",
    "    \n",
    "    # Using spaCy to remove GPE (Geopolitical Entities) as a proxy for locations\n",
    "    doc = nlp(text)\n",
    "    entities = [(ent.start_char, ent.end_char, ent.label_) for ent in doc.ents if ent.label_ in ['GPE', 'LOC']]\n",
    "    cleaned_text = text\n",
    "    # Replace locations with [LOCATION]\n",
    "    for start, end, label in reversed(entities):\n",
    "        cleaned_text = cleaned_text[:start] + '[LOCATION]' + cleaned_text[end:]\n",
    "    return cleaned_text\n",
    "\n",
    "def remove_personal_info(text):\n",
    "    \"\"\"Aggregate function to remove various personal information.\"\"\"\n",
    "    text = remove_emails(text)\n",
    "    text = remove_phone_numbers(text)\n",
    "    text = remove_names(text)\n",
    "    text = remove_addresses(text)\n",
    "    return text\n",
    "\n",
    "# def define_relevance_with_llm(text):\n",
    "    relevance_prompt=f\"\"\"\n",
    "    You are an automated classifier designed to evaluate whether a given text \n",
    "    contains relevant information for students interested in studying and living\n",
    "    in Germany. Your task is to read the provided text and determine its relevancy\n",
    "    based on the following criteria:\n",
    "\n",
    "    Respond with \"Yes\" if the text includes information such as:\n",
    "\n",
    "    Study opportunities (e.g., universities, courses, scholarships)\n",
    "    Living conditions (e.g., cost of living, accommodation tips)\n",
    "    Cultural insights (e.g., cultural norms, language tips)\n",
    "    Practical advice for adapting to life in Germany\n",
    "    Local resources and support systems for international students\n",
    "    Respond with \"No\" if the text:\n",
    "\n",
    "    Does not pertain to studying or living in Germany\n",
    "    Contains irrelevant or unrelated information\n",
    "    Focuses on personal anecdotes without broader applicability\n",
    "    Discusses topics outside the scope of student life in Germany\n",
    "    Examples:\n",
    "\n",
    "    Text: \"Discover the top universities in Germany offering scholarships\n",
    "    for international students. Learn about the application process and tips\n",
    "    for living on a student budget.\"\n",
    "\n",
    "    Response: Yes\n",
    "\n",
    "    Text: \"The weather today is sunny with a high of 25°C. It's a perfect day\n",
    "    for a picnic in the park.\"\n",
    "\n",
    "    Response: No\n",
    "\n",
    "    Text: \"Navigating the German public transportation system can be challenging\n",
    "    for newcomers. Here's a guide to help you get around efficiently.\"\n",
    "\n",
    "    Response: Yes\n",
    "\n",
    "    Text: \"I went hiking in the Alps last summer and it was an unforgettable experience.\"\n",
    "\n",
    "    Response: No\n",
    "\n",
    "    Now, evaluate the following text:\n",
    "\n",
    "    Text: \"{text}\"\n",
    "\n",
    "    Response:\n",
    "    \"\"\"\n",
    "    try:\n",
    "        response = client.chat.completions.create(\n",
    "        model=\"gpt-4o-mini\",\n",
    "        messages=[\n",
    "            {\"role\": \"system\", \"content\": relevance_prompt},\n",
    "        ])\n",
    "        \n",
    "        relevance = response.choices[0].message.content\n",
    "        return relevance\n",
    "    except Exception as e:\n",
    "        print(f\"Error during LLM-based relevance detection: {e}\")\n",
    "        return text\n",
    "    \n",
    "\n",
    "# def clean_text_with_llm(text):\n",
    "    \"\"\"\n",
    "    Clean text using an LLM like OpenAI's GPT.\n",
    "    This function sends a prompt to the LLM to clean the text.\n",
    "    Ensure you have set the OPENAI_API_KEY environment variable.\n",
    "    \"\"\"\n",
    "    if not client:\n",
    "        print(\"OpenAI library not available. Skipping LLM-based cleaning.\")\n",
    "        return text\n",
    "    \n",
    "    cleaning_prompt = f\"\"\"\n",
    "    You are an expert data cleaner tasked with processing scraped website data \n",
    "    to create clear and informative content for students interested in studying\n",
    "    and living in Germany. The input text may contain disorganized information and \n",
    "    personal details. Your objectives are to:\n",
    "\n",
    "    Extract Relevant Information:\n",
    "\n",
    "    Identify and retain only the information pertinent to studying and living in \n",
    "    Germany, such as educational opportunities, living conditions, cultural insights,\n",
    "    accommodation tips, and local resources.\n",
    "    \n",
    "    Remove Personal Information:\n",
    "\n",
    "    Exclude all personal data, including names, contact details, addresses, email addresses,\n",
    "    phone numbers, and any other identifying information.\n",
    "    Ensure Coherence and Clarity:\n",
    "\n",
    "    Organize the extracted information into a well-structured, coherent, and readable format.\n",
    "    Maintain the original meaning and intent of the content without adding or omitting critical information.\n",
    "    \n",
    "    Original Text: \"{text}\"\n",
    "\n",
    "    Cleaned Text:\n",
    "    \"\"\"\n",
    "    \n",
    "    try:\n",
    "        response = client.chat.completions.create(\n",
    "        model=\"gpt-4o-mini\",\n",
    "        messages=[\n",
    "            {\"role\": \"system\", \"content\": cleaning_prompt},\n",
    "        ])\n",
    "        \n",
    "        cleaned_text = response.choices[0].message.content\n",
    "        return cleaned_text\n",
    "    except Exception as e:\n",
    "        print(f\"Error during LLM-based cleaning: {e}\")\n",
    "        return text"
   ]
  },
  {
   "cell_type": "markdown",
   "metadata": {},
   "source": [
    "We use all our previous functions to clean the data. Then store it in a separate json file."
   ]
  },
  {
   "cell_type": "code",
   "execution_count": 15,
   "metadata": {},
   "outputs": [],
   "source": [
    "\n",
    "def main(INPUT_FILE = f'{file_path}.json',\n",
    "    CLEANED_FILE = f'{file_path}_cleaned.json'):\n",
    "    if not os.path.exists(INPUT_FILE):\n",
    "        print(f\"Input file '{INPUT_FILE}' not found.\")\n",
    "        return\n",
    "\n",
    "    with open(INPUT_FILE, 'r', encoding='utf-8') as f:\n",
    "        try:\n",
    "            data = json.load(f)\n",
    "            print(f\"Loaded {len(data)} data points from '{INPUT_FILE}'.\")\n",
    "        except json.JSONDecodeError as e:\n",
    "            print(f\"Error decoding JSON: {e}\")\n",
    "            return\n",
    "\n",
    "    df = pd.DataFrame(data)\n",
    "\n",
    "    print(\"\\nInitial DataFrame Info:\")\n",
    "    print(df.info())\n",
    "\n",
    "    required_columns = ['url', 'title', 'text_content']\n",
    "    for col in required_columns:\n",
    "        if col not in df.columns:\n",
    "            print(f\"Missing required column: '{col}'. Please check your data.\")\n",
    "            return\n",
    "\n",
    "    initial_count = len(df)\n",
    "    df.drop_duplicates(subset=['url'], inplace=True)\n",
    "    duplicates_removed = initial_count - len(df)\n",
    "    print(f\"\\nRemoved {duplicates_removed} duplicate entries based on 'url'.\")\n",
    "\n",
    "    initial_count = len(df)\n",
    "    df.dropna(subset=['url', 'text_content'], inplace=True)\n",
    "    missing_removed = initial_count - len(df)\n",
    "    print(f\"Removed {missing_removed} entries with missing 'url' or 'text_content'.\")\n",
    "\n",
    "    titles_filled = df['title'].isnull().sum()\n",
    "    df['title'].fillna('No Title', inplace=True)\n",
    "    print(f\"Filled {titles_filled} missing 'title' entries with 'No Title'.\")\n",
    "\n",
    "    print(\"\\nRemoving personal information...\")\n",
    "    df['text_content'] = df['text_content'].apply(remove_personal_info)\n",
    "\n",
    "    apply_llm = False \n",
    "    if apply_llm:\n",
    "        print(\"Applying LLM-based cleaning...\")\n",
    "        df['text_content'] = df['text_content'].apply(clean_text_with_llm)\n",
    "\n",
    "    df.to_json(CLEANED_FILE, orient='records', indent=4)\n",
    "    print(f\"\\nCleaned data saved to '{CLEANED_FILE}'.\")"
   ]
  },
  {
   "cell_type": "code",
   "execution_count": 16,
   "metadata": {},
   "outputs": [
    {
     "name": "stdout",
     "output_type": "stream",
     "text": [
      "Loaded 712 data points from '../temporary_folder/output.json'.\n",
      "\n",
      "Initial DataFrame Info:\n",
      "<class 'pandas.core.frame.DataFrame'>\n",
      "RangeIndex: 712 entries, 0 to 711\n",
      "Data columns (total 3 columns):\n",
      " #   Column        Non-Null Count  Dtype \n",
      "---  ------        --------------  ----- \n",
      " 0   url           712 non-null    object\n",
      " 1   title         712 non-null    object\n",
      " 2   text_content  712 non-null    object\n",
      "dtypes: object(3)\n",
      "memory usage: 16.8+ KB\n",
      "None\n",
      "\n",
      "Removed 22 duplicate entries based on 'url'.\n",
      "Removed 0 entries with missing 'url' or 'text_content'.\n",
      "Filled 0 missing 'title' entries with 'No Title'.\n",
      "\n",
      "Removing personal information...\n"
     ]
    },
    {
     "name": "stderr",
     "output_type": "stream",
     "text": [
      "/var/folders/ns/0spd8fg95tv2s7hys988_pb00000gp/T/ipykernel_30125/509171924.py:37: FutureWarning: A value is trying to be set on a copy of a DataFrame or Series through chained assignment using an inplace method.\n",
      "The behavior will change in pandas 3.0. This inplace method will never work because the intermediate object on which we are setting values always behaves as a copy.\n",
      "\n",
      "For example, when doing 'df[col].method(value, inplace=True)', try using 'df.method({col: value}, inplace=True)' or df[col] = df[col].method(value) instead, to perform the operation inplace on the original object.\n",
      "\n",
      "\n",
      "  df['title'].fillna('No Title', inplace=True)\n"
     ]
    },
    {
     "ename": "KeyboardInterrupt",
     "evalue": "",
     "output_type": "error",
     "traceback": [
      "\u001b[0;31m---------------------------------------------------------------------------\u001b[0m",
      "\u001b[0;31mKeyboardInterrupt\u001b[0m                         Traceback (most recent call last)",
      "Cell \u001b[0;32mIn[16], line 1\u001b[0m\n\u001b[0;32m----> 1\u001b[0m \u001b[43mmain\u001b[49m\u001b[43m(\u001b[49m\u001b[43m)\u001b[49m\n",
      "Cell \u001b[0;32mIn[15], line 41\u001b[0m, in \u001b[0;36mmain\u001b[0;34m(INPUT_FILE, CLEANED_FILE)\u001b[0m\n\u001b[1;32m     38\u001b[0m \u001b[38;5;28mprint\u001b[39m(\u001b[38;5;124mf\u001b[39m\u001b[38;5;124m\"\u001b[39m\u001b[38;5;124mFilled \u001b[39m\u001b[38;5;132;01m{\u001b[39;00mtitles_filled\u001b[38;5;132;01m}\u001b[39;00m\u001b[38;5;124m missing \u001b[39m\u001b[38;5;124m'\u001b[39m\u001b[38;5;124mtitle\u001b[39m\u001b[38;5;124m'\u001b[39m\u001b[38;5;124m entries with \u001b[39m\u001b[38;5;124m'\u001b[39m\u001b[38;5;124mNo Title\u001b[39m\u001b[38;5;124m'\u001b[39m\u001b[38;5;124m.\u001b[39m\u001b[38;5;124m\"\u001b[39m)\n\u001b[1;32m     40\u001b[0m \u001b[38;5;28mprint\u001b[39m(\u001b[38;5;124m\"\u001b[39m\u001b[38;5;130;01m\\n\u001b[39;00m\u001b[38;5;124mRemoving personal information...\u001b[39m\u001b[38;5;124m\"\u001b[39m)\n\u001b[0;32m---> 41\u001b[0m df[\u001b[38;5;124m'\u001b[39m\u001b[38;5;124mtext_content\u001b[39m\u001b[38;5;124m'\u001b[39m] \u001b[38;5;241m=\u001b[39m \u001b[43mdf\u001b[49m\u001b[43m[\u001b[49m\u001b[38;5;124;43m'\u001b[39;49m\u001b[38;5;124;43mtext_content\u001b[39;49m\u001b[38;5;124;43m'\u001b[39;49m\u001b[43m]\u001b[49m\u001b[38;5;241;43m.\u001b[39;49m\u001b[43mapply\u001b[49m\u001b[43m(\u001b[49m\u001b[43mremove_personal_info\u001b[49m\u001b[43m)\u001b[49m\n\u001b[1;32m     43\u001b[0m apply_llm \u001b[38;5;241m=\u001b[39m \u001b[38;5;28;01mFalse\u001b[39;00m \n\u001b[1;32m     44\u001b[0m \u001b[38;5;28;01mif\u001b[39;00m apply_llm:\n",
      "File \u001b[0;32m~/Desktop/unillm-backend/.venv/lib/python3.10/site-packages/pandas/core/series.py:4924\u001b[0m, in \u001b[0;36mSeries.apply\u001b[0;34m(self, func, convert_dtype, args, by_row, **kwargs)\u001b[0m\n\u001b[1;32m   4789\u001b[0m \u001b[38;5;28;01mdef\u001b[39;00m\u001b[38;5;250m \u001b[39m\u001b[38;5;21mapply\u001b[39m(\n\u001b[1;32m   4790\u001b[0m     \u001b[38;5;28mself\u001b[39m,\n\u001b[1;32m   4791\u001b[0m     func: AggFuncType,\n\u001b[0;32m   (...)\u001b[0m\n\u001b[1;32m   4796\u001b[0m     \u001b[38;5;241m*\u001b[39m\u001b[38;5;241m*\u001b[39mkwargs,\n\u001b[1;32m   4797\u001b[0m ) \u001b[38;5;241m-\u001b[39m\u001b[38;5;241m>\u001b[39m DataFrame \u001b[38;5;241m|\u001b[39m Series:\n\u001b[1;32m   4798\u001b[0m \u001b[38;5;250m    \u001b[39m\u001b[38;5;124;03m\"\"\"\u001b[39;00m\n\u001b[1;32m   4799\u001b[0m \u001b[38;5;124;03m    Invoke function on values of Series.\u001b[39;00m\n\u001b[1;32m   4800\u001b[0m \n\u001b[0;32m   (...)\u001b[0m\n\u001b[1;32m   4915\u001b[0m \u001b[38;5;124;03m    dtype: float64\u001b[39;00m\n\u001b[1;32m   4916\u001b[0m \u001b[38;5;124;03m    \"\"\"\u001b[39;00m\n\u001b[1;32m   4917\u001b[0m     \u001b[38;5;28;01mreturn\u001b[39;00m \u001b[43mSeriesApply\u001b[49m\u001b[43m(\u001b[49m\n\u001b[1;32m   4918\u001b[0m \u001b[43m        \u001b[49m\u001b[38;5;28;43mself\u001b[39;49m\u001b[43m,\u001b[49m\n\u001b[1;32m   4919\u001b[0m \u001b[43m        \u001b[49m\u001b[43mfunc\u001b[49m\u001b[43m,\u001b[49m\n\u001b[1;32m   4920\u001b[0m \u001b[43m        \u001b[49m\u001b[43mconvert_dtype\u001b[49m\u001b[38;5;241;43m=\u001b[39;49m\u001b[43mconvert_dtype\u001b[49m\u001b[43m,\u001b[49m\n\u001b[1;32m   4921\u001b[0m \u001b[43m        \u001b[49m\u001b[43mby_row\u001b[49m\u001b[38;5;241;43m=\u001b[39;49m\u001b[43mby_row\u001b[49m\u001b[43m,\u001b[49m\n\u001b[1;32m   4922\u001b[0m \u001b[43m        \u001b[49m\u001b[43margs\u001b[49m\u001b[38;5;241;43m=\u001b[39;49m\u001b[43margs\u001b[49m\u001b[43m,\u001b[49m\n\u001b[1;32m   4923\u001b[0m \u001b[43m        \u001b[49m\u001b[43mkwargs\u001b[49m\u001b[38;5;241;43m=\u001b[39;49m\u001b[43mkwargs\u001b[49m\u001b[43m,\u001b[49m\n\u001b[0;32m-> 4924\u001b[0m \u001b[43m    \u001b[49m\u001b[43m)\u001b[49m\u001b[38;5;241;43m.\u001b[39;49m\u001b[43mapply\u001b[49m\u001b[43m(\u001b[49m\u001b[43m)\u001b[49m\n",
      "File \u001b[0;32m~/Desktop/unillm-backend/.venv/lib/python3.10/site-packages/pandas/core/apply.py:1427\u001b[0m, in \u001b[0;36mSeriesApply.apply\u001b[0;34m(self)\u001b[0m\n\u001b[1;32m   1424\u001b[0m     \u001b[38;5;28;01mreturn\u001b[39;00m \u001b[38;5;28mself\u001b[39m\u001b[38;5;241m.\u001b[39mapply_compat()\n\u001b[1;32m   1426\u001b[0m \u001b[38;5;66;03m# self.func is Callable\u001b[39;00m\n\u001b[0;32m-> 1427\u001b[0m \u001b[38;5;28;01mreturn\u001b[39;00m \u001b[38;5;28;43mself\u001b[39;49m\u001b[38;5;241;43m.\u001b[39;49m\u001b[43mapply_standard\u001b[49m\u001b[43m(\u001b[49m\u001b[43m)\u001b[49m\n",
      "File \u001b[0;32m~/Desktop/unillm-backend/.venv/lib/python3.10/site-packages/pandas/core/apply.py:1507\u001b[0m, in \u001b[0;36mSeriesApply.apply_standard\u001b[0;34m(self)\u001b[0m\n\u001b[1;32m   1501\u001b[0m \u001b[38;5;66;03m# row-wise access\u001b[39;00m\n\u001b[1;32m   1502\u001b[0m \u001b[38;5;66;03m# apply doesn't have a `na_action` keyword and for backward compat reasons\u001b[39;00m\n\u001b[1;32m   1503\u001b[0m \u001b[38;5;66;03m# we need to give `na_action=\"ignore\"` for categorical data.\u001b[39;00m\n\u001b[1;32m   1504\u001b[0m \u001b[38;5;66;03m# TODO: remove the `na_action=\"ignore\"` when that default has been changed in\u001b[39;00m\n\u001b[1;32m   1505\u001b[0m \u001b[38;5;66;03m#  Categorical (GH51645).\u001b[39;00m\n\u001b[1;32m   1506\u001b[0m action \u001b[38;5;241m=\u001b[39m \u001b[38;5;124m\"\u001b[39m\u001b[38;5;124mignore\u001b[39m\u001b[38;5;124m\"\u001b[39m \u001b[38;5;28;01mif\u001b[39;00m \u001b[38;5;28misinstance\u001b[39m(obj\u001b[38;5;241m.\u001b[39mdtype, CategoricalDtype) \u001b[38;5;28;01melse\u001b[39;00m \u001b[38;5;28;01mNone\u001b[39;00m\n\u001b[0;32m-> 1507\u001b[0m mapped \u001b[38;5;241m=\u001b[39m \u001b[43mobj\u001b[49m\u001b[38;5;241;43m.\u001b[39;49m\u001b[43m_map_values\u001b[49m\u001b[43m(\u001b[49m\n\u001b[1;32m   1508\u001b[0m \u001b[43m    \u001b[49m\u001b[43mmapper\u001b[49m\u001b[38;5;241;43m=\u001b[39;49m\u001b[43mcurried\u001b[49m\u001b[43m,\u001b[49m\u001b[43m \u001b[49m\u001b[43mna_action\u001b[49m\u001b[38;5;241;43m=\u001b[39;49m\u001b[43maction\u001b[49m\u001b[43m,\u001b[49m\u001b[43m \u001b[49m\u001b[43mconvert\u001b[49m\u001b[38;5;241;43m=\u001b[39;49m\u001b[38;5;28;43mself\u001b[39;49m\u001b[38;5;241;43m.\u001b[39;49m\u001b[43mconvert_dtype\u001b[49m\n\u001b[1;32m   1509\u001b[0m \u001b[43m\u001b[49m\u001b[43m)\u001b[49m\n\u001b[1;32m   1511\u001b[0m \u001b[38;5;28;01mif\u001b[39;00m \u001b[38;5;28mlen\u001b[39m(mapped) \u001b[38;5;129;01mand\u001b[39;00m \u001b[38;5;28misinstance\u001b[39m(mapped[\u001b[38;5;241m0\u001b[39m], ABCSeries):\n\u001b[1;32m   1512\u001b[0m     \u001b[38;5;66;03m# GH#43986 Need to do list(mapped) in order to get treated as nested\u001b[39;00m\n\u001b[1;32m   1513\u001b[0m     \u001b[38;5;66;03m#  See also GH#25959 regarding EA support\u001b[39;00m\n\u001b[1;32m   1514\u001b[0m     \u001b[38;5;28;01mreturn\u001b[39;00m obj\u001b[38;5;241m.\u001b[39m_constructor_expanddim(\u001b[38;5;28mlist\u001b[39m(mapped), index\u001b[38;5;241m=\u001b[39mobj\u001b[38;5;241m.\u001b[39mindex)\n",
      "File \u001b[0;32m~/Desktop/unillm-backend/.venv/lib/python3.10/site-packages/pandas/core/base.py:921\u001b[0m, in \u001b[0;36mIndexOpsMixin._map_values\u001b[0;34m(self, mapper, na_action, convert)\u001b[0m\n\u001b[1;32m    918\u001b[0m \u001b[38;5;28;01mif\u001b[39;00m \u001b[38;5;28misinstance\u001b[39m(arr, ExtensionArray):\n\u001b[1;32m    919\u001b[0m     \u001b[38;5;28;01mreturn\u001b[39;00m arr\u001b[38;5;241m.\u001b[39mmap(mapper, na_action\u001b[38;5;241m=\u001b[39mna_action)\n\u001b[0;32m--> 921\u001b[0m \u001b[38;5;28;01mreturn\u001b[39;00m \u001b[43malgorithms\u001b[49m\u001b[38;5;241;43m.\u001b[39;49m\u001b[43mmap_array\u001b[49m\u001b[43m(\u001b[49m\u001b[43marr\u001b[49m\u001b[43m,\u001b[49m\u001b[43m \u001b[49m\u001b[43mmapper\u001b[49m\u001b[43m,\u001b[49m\u001b[43m \u001b[49m\u001b[43mna_action\u001b[49m\u001b[38;5;241;43m=\u001b[39;49m\u001b[43mna_action\u001b[49m\u001b[43m,\u001b[49m\u001b[43m \u001b[49m\u001b[43mconvert\u001b[49m\u001b[38;5;241;43m=\u001b[39;49m\u001b[43mconvert\u001b[49m\u001b[43m)\u001b[49m\n",
      "File \u001b[0;32m~/Desktop/unillm-backend/.venv/lib/python3.10/site-packages/pandas/core/algorithms.py:1743\u001b[0m, in \u001b[0;36mmap_array\u001b[0;34m(arr, mapper, na_action, convert)\u001b[0m\n\u001b[1;32m   1741\u001b[0m values \u001b[38;5;241m=\u001b[39m arr\u001b[38;5;241m.\u001b[39mastype(\u001b[38;5;28mobject\u001b[39m, copy\u001b[38;5;241m=\u001b[39m\u001b[38;5;28;01mFalse\u001b[39;00m)\n\u001b[1;32m   1742\u001b[0m \u001b[38;5;28;01mif\u001b[39;00m na_action \u001b[38;5;129;01mis\u001b[39;00m \u001b[38;5;28;01mNone\u001b[39;00m:\n\u001b[0;32m-> 1743\u001b[0m     \u001b[38;5;28;01mreturn\u001b[39;00m \u001b[43mlib\u001b[49m\u001b[38;5;241;43m.\u001b[39;49m\u001b[43mmap_infer\u001b[49m\u001b[43m(\u001b[49m\u001b[43mvalues\u001b[49m\u001b[43m,\u001b[49m\u001b[43m \u001b[49m\u001b[43mmapper\u001b[49m\u001b[43m,\u001b[49m\u001b[43m \u001b[49m\u001b[43mconvert\u001b[49m\u001b[38;5;241;43m=\u001b[39;49m\u001b[43mconvert\u001b[49m\u001b[43m)\u001b[49m\n\u001b[1;32m   1744\u001b[0m \u001b[38;5;28;01melse\u001b[39;00m:\n\u001b[1;32m   1745\u001b[0m     \u001b[38;5;28;01mreturn\u001b[39;00m lib\u001b[38;5;241m.\u001b[39mmap_infer_mask(\n\u001b[1;32m   1746\u001b[0m         values, mapper, mask\u001b[38;5;241m=\u001b[39misna(values)\u001b[38;5;241m.\u001b[39mview(np\u001b[38;5;241m.\u001b[39muint8), convert\u001b[38;5;241m=\u001b[39mconvert\n\u001b[1;32m   1747\u001b[0m     )\n",
      "File \u001b[0;32mlib.pyx:2972\u001b[0m, in \u001b[0;36mpandas._libs.lib.map_infer\u001b[0;34m()\u001b[0m\n",
      "Cell \u001b[0;32mIn[12], line 59\u001b[0m, in \u001b[0;36mremove_personal_info\u001b[0;34m(text)\u001b[0m\n\u001b[1;32m     57\u001b[0m     text \u001b[38;5;241m=\u001b[39m remove_phone_numbers(text)\n\u001b[1;32m     58\u001b[0m     text \u001b[38;5;241m=\u001b[39m remove_names(text)\n\u001b[0;32m---> 59\u001b[0m     text \u001b[38;5;241m=\u001b[39m \u001b[43mremove_addresses\u001b[49m\u001b[43m(\u001b[49m\u001b[43mtext\u001b[49m\u001b[43m)\u001b[49m\n\u001b[1;32m     60\u001b[0m     \u001b[38;5;28;01mreturn\u001b[39;00m text\n\u001b[1;32m     62\u001b[0m \u001b[38;5;66;03m# def define_relevance_with_llm(text):\u001b[39;00m\n",
      "Cell \u001b[0;32mIn[12], line 46\u001b[0m, in \u001b[0;36mremove_addresses\u001b[0;34m(text)\u001b[0m\n\u001b[1;32m     43\u001b[0m text \u001b[38;5;241m=\u001b[39m re\u001b[38;5;241m.\u001b[39msub(address_pattern, \u001b[38;5;124m'\u001b[39m\u001b[38;5;124m[ADDRESS]\u001b[39m\u001b[38;5;124m'\u001b[39m, text)\n\u001b[1;32m     45\u001b[0m \u001b[38;5;66;03m# Using spaCy to remove GPE (Geopolitical Entities) as a proxy for locations\u001b[39;00m\n\u001b[0;32m---> 46\u001b[0m doc \u001b[38;5;241m=\u001b[39m \u001b[43mnlp\u001b[49m\u001b[43m(\u001b[49m\u001b[43mtext\u001b[49m\u001b[43m)\u001b[49m\n\u001b[1;32m     47\u001b[0m entities \u001b[38;5;241m=\u001b[39m [(ent\u001b[38;5;241m.\u001b[39mstart_char, ent\u001b[38;5;241m.\u001b[39mend_char, ent\u001b[38;5;241m.\u001b[39mlabel_) \u001b[38;5;28;01mfor\u001b[39;00m ent \u001b[38;5;129;01min\u001b[39;00m doc\u001b[38;5;241m.\u001b[39ments \u001b[38;5;28;01mif\u001b[39;00m ent\u001b[38;5;241m.\u001b[39mlabel_ \u001b[38;5;129;01min\u001b[39;00m [\u001b[38;5;124m'\u001b[39m\u001b[38;5;124mGPE\u001b[39m\u001b[38;5;124m'\u001b[39m, \u001b[38;5;124m'\u001b[39m\u001b[38;5;124mLOC\u001b[39m\u001b[38;5;124m'\u001b[39m]]\n\u001b[1;32m     48\u001b[0m cleaned_text \u001b[38;5;241m=\u001b[39m text\n",
      "File \u001b[0;32m~/Desktop/unillm-backend/.venv/lib/python3.10/site-packages/spacy/language.py:1053\u001b[0m, in \u001b[0;36mLanguage.__call__\u001b[0;34m(self, text, disable, component_cfg)\u001b[0m\n\u001b[1;32m   1051\u001b[0m     error_handler \u001b[38;5;241m=\u001b[39m proc\u001b[38;5;241m.\u001b[39mget_error_handler()\n\u001b[1;32m   1052\u001b[0m \u001b[38;5;28;01mtry\u001b[39;00m:\n\u001b[0;32m-> 1053\u001b[0m     doc \u001b[38;5;241m=\u001b[39m \u001b[43mproc\u001b[49m\u001b[43m(\u001b[49m\u001b[43mdoc\u001b[49m\u001b[43m,\u001b[49m\u001b[43m \u001b[49m\u001b[38;5;241;43m*\u001b[39;49m\u001b[38;5;241;43m*\u001b[39;49m\u001b[43mcomponent_cfg\u001b[49m\u001b[38;5;241;43m.\u001b[39;49m\u001b[43mget\u001b[49m\u001b[43m(\u001b[49m\u001b[43mname\u001b[49m\u001b[43m,\u001b[49m\u001b[43m \u001b[49m\u001b[43m{\u001b[49m\u001b[43m}\u001b[49m\u001b[43m)\u001b[49m\u001b[43m)\u001b[49m  \u001b[38;5;66;03m# type: ignore[call-arg]\u001b[39;00m\n\u001b[1;32m   1054\u001b[0m \u001b[38;5;28;01mexcept\u001b[39;00m \u001b[38;5;167;01mKeyError\u001b[39;00m \u001b[38;5;28;01mas\u001b[39;00m e:\n\u001b[1;32m   1055\u001b[0m     \u001b[38;5;66;03m# This typically happens if a component is not initialized\u001b[39;00m\n\u001b[1;32m   1056\u001b[0m     \u001b[38;5;28;01mraise\u001b[39;00m \u001b[38;5;167;01mValueError\u001b[39;00m(Errors\u001b[38;5;241m.\u001b[39mE109\u001b[38;5;241m.\u001b[39mformat(name\u001b[38;5;241m=\u001b[39mname)) \u001b[38;5;28;01mfrom\u001b[39;00m\u001b[38;5;250m \u001b[39m\u001b[38;5;21;01me\u001b[39;00m\n",
      "File \u001b[0;32m~/Desktop/unillm-backend/.venv/lib/python3.10/site-packages/spacy/pipeline/trainable_pipe.pyx:52\u001b[0m, in \u001b[0;36mspacy.pipeline.trainable_pipe.TrainablePipe.__call__\u001b[0;34m()\u001b[0m\n",
      "File \u001b[0;32m~/Desktop/unillm-backend/.venv/lib/python3.10/site-packages/spacy/pipeline/tok2vec.py:121\u001b[0m, in \u001b[0;36mTok2Vec.predict\u001b[0;34m(self, docs)\u001b[0m\n\u001b[1;32m    119\u001b[0m     width \u001b[38;5;241m=\u001b[39m \u001b[38;5;28mself\u001b[39m\u001b[38;5;241m.\u001b[39mmodel\u001b[38;5;241m.\u001b[39mget_dim(\u001b[38;5;124m\"\u001b[39m\u001b[38;5;124mnO\u001b[39m\u001b[38;5;124m\"\u001b[39m)\n\u001b[1;32m    120\u001b[0m     \u001b[38;5;28;01mreturn\u001b[39;00m [\u001b[38;5;28mself\u001b[39m\u001b[38;5;241m.\u001b[39mmodel\u001b[38;5;241m.\u001b[39mops\u001b[38;5;241m.\u001b[39malloc((\u001b[38;5;241m0\u001b[39m, width)) \u001b[38;5;28;01mfor\u001b[39;00m doc \u001b[38;5;129;01min\u001b[39;00m docs]\n\u001b[0;32m--> 121\u001b[0m tokvecs \u001b[38;5;241m=\u001b[39m \u001b[38;5;28;43mself\u001b[39;49m\u001b[38;5;241;43m.\u001b[39;49m\u001b[43mmodel\u001b[49m\u001b[38;5;241;43m.\u001b[39;49m\u001b[43mpredict\u001b[49m\u001b[43m(\u001b[49m\u001b[43mdocs\u001b[49m\u001b[43m)\u001b[49m\n\u001b[1;32m    122\u001b[0m \u001b[38;5;28;01mreturn\u001b[39;00m tokvecs\n",
      "File \u001b[0;32m~/Desktop/unillm-backend/.venv/lib/python3.10/site-packages/thinc/model.py:334\u001b[0m, in \u001b[0;36mModel.predict\u001b[0;34m(self, X)\u001b[0m\n\u001b[1;32m    330\u001b[0m \u001b[38;5;28;01mdef\u001b[39;00m\u001b[38;5;250m \u001b[39m\u001b[38;5;21mpredict\u001b[39m(\u001b[38;5;28mself\u001b[39m, X: InT) \u001b[38;5;241m-\u001b[39m\u001b[38;5;241m>\u001b[39m OutT:\n\u001b[1;32m    331\u001b[0m \u001b[38;5;250m    \u001b[39m\u001b[38;5;124;03m\"\"\"Call the model's `forward` function with `is_train=False`, and return\u001b[39;00m\n\u001b[1;32m    332\u001b[0m \u001b[38;5;124;03m    only the output, instead of the `(output, callback)` tuple.\u001b[39;00m\n\u001b[1;32m    333\u001b[0m \u001b[38;5;124;03m    \"\"\"\u001b[39;00m\n\u001b[0;32m--> 334\u001b[0m     \u001b[38;5;28;01mreturn\u001b[39;00m \u001b[38;5;28;43mself\u001b[39;49m\u001b[38;5;241;43m.\u001b[39;49m\u001b[43m_func\u001b[49m\u001b[43m(\u001b[49m\u001b[38;5;28;43mself\u001b[39;49m\u001b[43m,\u001b[49m\u001b[43m \u001b[49m\u001b[43mX\u001b[49m\u001b[43m,\u001b[49m\u001b[43m \u001b[49m\u001b[43mis_train\u001b[49m\u001b[38;5;241;43m=\u001b[39;49m\u001b[38;5;28;43;01mFalse\u001b[39;49;00m\u001b[43m)\u001b[49m[\u001b[38;5;241m0\u001b[39m]\n",
      "File \u001b[0;32m~/Desktop/unillm-backend/.venv/lib/python3.10/site-packages/thinc/layers/chain.py:54\u001b[0m, in \u001b[0;36mforward\u001b[0;34m(model, X, is_train)\u001b[0m\n\u001b[1;32m     52\u001b[0m callbacks \u001b[38;5;241m=\u001b[39m []\n\u001b[1;32m     53\u001b[0m \u001b[38;5;28;01mfor\u001b[39;00m layer \u001b[38;5;129;01min\u001b[39;00m model\u001b[38;5;241m.\u001b[39mlayers:\n\u001b[0;32m---> 54\u001b[0m     Y, inc_layer_grad \u001b[38;5;241m=\u001b[39m \u001b[43mlayer\u001b[49m\u001b[43m(\u001b[49m\u001b[43mX\u001b[49m\u001b[43m,\u001b[49m\u001b[43m \u001b[49m\u001b[43mis_train\u001b[49m\u001b[38;5;241;43m=\u001b[39;49m\u001b[43mis_train\u001b[49m\u001b[43m)\u001b[49m\n\u001b[1;32m     55\u001b[0m     callbacks\u001b[38;5;241m.\u001b[39mappend(inc_layer_grad)\n\u001b[1;32m     56\u001b[0m     X \u001b[38;5;241m=\u001b[39m Y\n",
      "File \u001b[0;32m~/Desktop/unillm-backend/.venv/lib/python3.10/site-packages/thinc/model.py:310\u001b[0m, in \u001b[0;36mModel.__call__\u001b[0;34m(self, X, is_train)\u001b[0m\n\u001b[1;32m    307\u001b[0m \u001b[38;5;28;01mdef\u001b[39;00m\u001b[38;5;250m \u001b[39m\u001b[38;5;21m__call__\u001b[39m(\u001b[38;5;28mself\u001b[39m, X: InT, is_train: \u001b[38;5;28mbool\u001b[39m) \u001b[38;5;241m-\u001b[39m\u001b[38;5;241m>\u001b[39m Tuple[OutT, Callable]:\n\u001b[1;32m    308\u001b[0m \u001b[38;5;250m    \u001b[39m\u001b[38;5;124;03m\"\"\"Call the model's `forward` function, returning the output and a\u001b[39;00m\n\u001b[1;32m    309\u001b[0m \u001b[38;5;124;03m    callback to compute the gradients via backpropagation.\"\"\"\u001b[39;00m\n\u001b[0;32m--> 310\u001b[0m     \u001b[38;5;28;01mreturn\u001b[39;00m \u001b[38;5;28;43mself\u001b[39;49m\u001b[38;5;241;43m.\u001b[39;49m\u001b[43m_func\u001b[49m\u001b[43m(\u001b[49m\u001b[38;5;28;43mself\u001b[39;49m\u001b[43m,\u001b[49m\u001b[43m \u001b[49m\u001b[43mX\u001b[49m\u001b[43m,\u001b[49m\u001b[43m \u001b[49m\u001b[43mis_train\u001b[49m\u001b[38;5;241;43m=\u001b[39;49m\u001b[43mis_train\u001b[49m\u001b[43m)\u001b[49m\n",
      "File \u001b[0;32m~/Desktop/unillm-backend/.venv/lib/python3.10/site-packages/thinc/layers/with_array.py:42\u001b[0m, in \u001b[0;36mforward\u001b[0;34m(model, Xseq, is_train)\u001b[0m\n\u001b[1;32m     40\u001b[0m     \u001b[38;5;28;01mreturn\u001b[39;00m model\u001b[38;5;241m.\u001b[39mlayers[\u001b[38;5;241m0\u001b[39m](Xseq, is_train)\n\u001b[1;32m     41\u001b[0m \u001b[38;5;28;01melse\u001b[39;00m:\n\u001b[0;32m---> 42\u001b[0m     \u001b[38;5;28;01mreturn\u001b[39;00m cast(Tuple[SeqT, Callable], \u001b[43m_list_forward\u001b[49m\u001b[43m(\u001b[49m\u001b[43mmodel\u001b[49m\u001b[43m,\u001b[49m\u001b[43m \u001b[49m\u001b[43mXseq\u001b[49m\u001b[43m,\u001b[49m\u001b[43m \u001b[49m\u001b[43mis_train\u001b[49m\u001b[43m)\u001b[49m)\n",
      "File \u001b[0;32m~/Desktop/unillm-backend/.venv/lib/python3.10/site-packages/thinc/layers/with_array.py:77\u001b[0m, in \u001b[0;36m_list_forward\u001b[0;34m(model, Xs, is_train)\u001b[0m\n\u001b[1;32m     75\u001b[0m lengths \u001b[38;5;241m=\u001b[39m NUMPY_OPS\u001b[38;5;241m.\u001b[39masarray1i([\u001b[38;5;28mlen\u001b[39m(seq) \u001b[38;5;28;01mfor\u001b[39;00m seq \u001b[38;5;129;01min\u001b[39;00m Xs])\n\u001b[1;32m     76\u001b[0m Xf \u001b[38;5;241m=\u001b[39m layer\u001b[38;5;241m.\u001b[39mops\u001b[38;5;241m.\u001b[39mflatten(Xs, pad\u001b[38;5;241m=\u001b[39mpad)\n\u001b[0;32m---> 77\u001b[0m Yf, get_dXf \u001b[38;5;241m=\u001b[39m \u001b[43mlayer\u001b[49m\u001b[43m(\u001b[49m\u001b[43mXf\u001b[49m\u001b[43m,\u001b[49m\u001b[43m \u001b[49m\u001b[43mis_train\u001b[49m\u001b[43m)\u001b[49m\n\u001b[1;32m     79\u001b[0m \u001b[38;5;28;01mdef\u001b[39;00m\u001b[38;5;250m \u001b[39m\u001b[38;5;21mbackprop\u001b[39m(dYs: ListXd) \u001b[38;5;241m-\u001b[39m\u001b[38;5;241m>\u001b[39m ListXd:\n\u001b[1;32m     80\u001b[0m     dYf \u001b[38;5;241m=\u001b[39m layer\u001b[38;5;241m.\u001b[39mops\u001b[38;5;241m.\u001b[39mflatten(dYs, pad\u001b[38;5;241m=\u001b[39mpad)\n",
      "File \u001b[0;32m~/Desktop/unillm-backend/.venv/lib/python3.10/site-packages/thinc/model.py:310\u001b[0m, in \u001b[0;36mModel.__call__\u001b[0;34m(self, X, is_train)\u001b[0m\n\u001b[1;32m    307\u001b[0m \u001b[38;5;28;01mdef\u001b[39;00m\u001b[38;5;250m \u001b[39m\u001b[38;5;21m__call__\u001b[39m(\u001b[38;5;28mself\u001b[39m, X: InT, is_train: \u001b[38;5;28mbool\u001b[39m) \u001b[38;5;241m-\u001b[39m\u001b[38;5;241m>\u001b[39m Tuple[OutT, Callable]:\n\u001b[1;32m    308\u001b[0m \u001b[38;5;250m    \u001b[39m\u001b[38;5;124;03m\"\"\"Call the model's `forward` function, returning the output and a\u001b[39;00m\n\u001b[1;32m    309\u001b[0m \u001b[38;5;124;03m    callback to compute the gradients via backpropagation.\"\"\"\u001b[39;00m\n\u001b[0;32m--> 310\u001b[0m     \u001b[38;5;28;01mreturn\u001b[39;00m \u001b[38;5;28;43mself\u001b[39;49m\u001b[38;5;241;43m.\u001b[39;49m\u001b[43m_func\u001b[49m\u001b[43m(\u001b[49m\u001b[38;5;28;43mself\u001b[39;49m\u001b[43m,\u001b[49m\u001b[43m \u001b[49m\u001b[43mX\u001b[49m\u001b[43m,\u001b[49m\u001b[43m \u001b[49m\u001b[43mis_train\u001b[49m\u001b[38;5;241;43m=\u001b[39;49m\u001b[43mis_train\u001b[49m\u001b[43m)\u001b[49m\n",
      "File \u001b[0;32m~/Desktop/unillm-backend/.venv/lib/python3.10/site-packages/thinc/layers/chain.py:54\u001b[0m, in \u001b[0;36mforward\u001b[0;34m(model, X, is_train)\u001b[0m\n\u001b[1;32m     52\u001b[0m callbacks \u001b[38;5;241m=\u001b[39m []\n\u001b[1;32m     53\u001b[0m \u001b[38;5;28;01mfor\u001b[39;00m layer \u001b[38;5;129;01min\u001b[39;00m model\u001b[38;5;241m.\u001b[39mlayers:\n\u001b[0;32m---> 54\u001b[0m     Y, inc_layer_grad \u001b[38;5;241m=\u001b[39m \u001b[43mlayer\u001b[49m\u001b[43m(\u001b[49m\u001b[43mX\u001b[49m\u001b[43m,\u001b[49m\u001b[43m \u001b[49m\u001b[43mis_train\u001b[49m\u001b[38;5;241;43m=\u001b[39;49m\u001b[43mis_train\u001b[49m\u001b[43m)\u001b[49m\n\u001b[1;32m     55\u001b[0m     callbacks\u001b[38;5;241m.\u001b[39mappend(inc_layer_grad)\n\u001b[1;32m     56\u001b[0m     X \u001b[38;5;241m=\u001b[39m Y\n",
      "File \u001b[0;32m~/Desktop/unillm-backend/.venv/lib/python3.10/site-packages/thinc/model.py:310\u001b[0m, in \u001b[0;36mModel.__call__\u001b[0;34m(self, X, is_train)\u001b[0m\n\u001b[1;32m    307\u001b[0m \u001b[38;5;28;01mdef\u001b[39;00m\u001b[38;5;250m \u001b[39m\u001b[38;5;21m__call__\u001b[39m(\u001b[38;5;28mself\u001b[39m, X: InT, is_train: \u001b[38;5;28mbool\u001b[39m) \u001b[38;5;241m-\u001b[39m\u001b[38;5;241m>\u001b[39m Tuple[OutT, Callable]:\n\u001b[1;32m    308\u001b[0m \u001b[38;5;250m    \u001b[39m\u001b[38;5;124;03m\"\"\"Call the model's `forward` function, returning the output and a\u001b[39;00m\n\u001b[1;32m    309\u001b[0m \u001b[38;5;124;03m    callback to compute the gradients via backpropagation.\"\"\"\u001b[39;00m\n\u001b[0;32m--> 310\u001b[0m     \u001b[38;5;28;01mreturn\u001b[39;00m \u001b[38;5;28;43mself\u001b[39;49m\u001b[38;5;241;43m.\u001b[39;49m\u001b[43m_func\u001b[49m\u001b[43m(\u001b[49m\u001b[38;5;28;43mself\u001b[39;49m\u001b[43m,\u001b[49m\u001b[43m \u001b[49m\u001b[43mX\u001b[49m\u001b[43m,\u001b[49m\u001b[43m \u001b[49m\u001b[43mis_train\u001b[49m\u001b[38;5;241;43m=\u001b[39;49m\u001b[43mis_train\u001b[49m\u001b[43m)\u001b[49m\n",
      "File \u001b[0;32m~/Desktop/unillm-backend/.venv/lib/python3.10/site-packages/thinc/layers/residual.py:41\u001b[0m, in \u001b[0;36mforward\u001b[0;34m(model, X, is_train)\u001b[0m\n\u001b[1;32m     38\u001b[0m     \u001b[38;5;28;01melse\u001b[39;00m:\n\u001b[1;32m     39\u001b[0m         \u001b[38;5;28;01mreturn\u001b[39;00m d_output \u001b[38;5;241m+\u001b[39m dX\n\u001b[0;32m---> 41\u001b[0m Y, backprop_layer \u001b[38;5;241m=\u001b[39m \u001b[43mmodel\u001b[49m\u001b[38;5;241;43m.\u001b[39;49m\u001b[43mlayers\u001b[49m\u001b[43m[\u001b[49m\u001b[38;5;241;43m0\u001b[39;49m\u001b[43m]\u001b[49m\u001b[43m(\u001b[49m\u001b[43mX\u001b[49m\u001b[43m,\u001b[49m\u001b[43m \u001b[49m\u001b[43mis_train\u001b[49m\u001b[43m)\u001b[49m\n\u001b[1;32m     42\u001b[0m \u001b[38;5;28;01mif\u001b[39;00m \u001b[38;5;28misinstance\u001b[39m(X, \u001b[38;5;28mlist\u001b[39m):\n\u001b[1;32m     43\u001b[0m     \u001b[38;5;28;01mreturn\u001b[39;00m [X[i] \u001b[38;5;241m+\u001b[39m Y[i] \u001b[38;5;28;01mfor\u001b[39;00m i \u001b[38;5;129;01min\u001b[39;00m \u001b[38;5;28mrange\u001b[39m(\u001b[38;5;28mlen\u001b[39m(X))], backprop\n",
      "File \u001b[0;32m~/Desktop/unillm-backend/.venv/lib/python3.10/site-packages/thinc/model.py:310\u001b[0m, in \u001b[0;36mModel.__call__\u001b[0;34m(self, X, is_train)\u001b[0m\n\u001b[1;32m    307\u001b[0m \u001b[38;5;28;01mdef\u001b[39;00m\u001b[38;5;250m \u001b[39m\u001b[38;5;21m__call__\u001b[39m(\u001b[38;5;28mself\u001b[39m, X: InT, is_train: \u001b[38;5;28mbool\u001b[39m) \u001b[38;5;241m-\u001b[39m\u001b[38;5;241m>\u001b[39m Tuple[OutT, Callable]:\n\u001b[1;32m    308\u001b[0m \u001b[38;5;250m    \u001b[39m\u001b[38;5;124;03m\"\"\"Call the model's `forward` function, returning the output and a\u001b[39;00m\n\u001b[1;32m    309\u001b[0m \u001b[38;5;124;03m    callback to compute the gradients via backpropagation.\"\"\"\u001b[39;00m\n\u001b[0;32m--> 310\u001b[0m     \u001b[38;5;28;01mreturn\u001b[39;00m \u001b[38;5;28;43mself\u001b[39;49m\u001b[38;5;241;43m.\u001b[39;49m\u001b[43m_func\u001b[49m\u001b[43m(\u001b[49m\u001b[38;5;28;43mself\u001b[39;49m\u001b[43m,\u001b[49m\u001b[43m \u001b[49m\u001b[43mX\u001b[49m\u001b[43m,\u001b[49m\u001b[43m \u001b[49m\u001b[43mis_train\u001b[49m\u001b[38;5;241;43m=\u001b[39;49m\u001b[43mis_train\u001b[49m\u001b[43m)\u001b[49m\n",
      "File \u001b[0;32m~/Desktop/unillm-backend/.venv/lib/python3.10/site-packages/thinc/layers/chain.py:54\u001b[0m, in \u001b[0;36mforward\u001b[0;34m(model, X, is_train)\u001b[0m\n\u001b[1;32m     52\u001b[0m callbacks \u001b[38;5;241m=\u001b[39m []\n\u001b[1;32m     53\u001b[0m \u001b[38;5;28;01mfor\u001b[39;00m layer \u001b[38;5;129;01min\u001b[39;00m model\u001b[38;5;241m.\u001b[39mlayers:\n\u001b[0;32m---> 54\u001b[0m     Y, inc_layer_grad \u001b[38;5;241m=\u001b[39m \u001b[43mlayer\u001b[49m\u001b[43m(\u001b[49m\u001b[43mX\u001b[49m\u001b[43m,\u001b[49m\u001b[43m \u001b[49m\u001b[43mis_train\u001b[49m\u001b[38;5;241;43m=\u001b[39;49m\u001b[43mis_train\u001b[49m\u001b[43m)\u001b[49m\n\u001b[1;32m     55\u001b[0m     callbacks\u001b[38;5;241m.\u001b[39mappend(inc_layer_grad)\n\u001b[1;32m     56\u001b[0m     X \u001b[38;5;241m=\u001b[39m Y\n",
      "File \u001b[0;32m~/Desktop/unillm-backend/.venv/lib/python3.10/site-packages/thinc/model.py:310\u001b[0m, in \u001b[0;36mModel.__call__\u001b[0;34m(self, X, is_train)\u001b[0m\n\u001b[1;32m    307\u001b[0m \u001b[38;5;28;01mdef\u001b[39;00m\u001b[38;5;250m \u001b[39m\u001b[38;5;21m__call__\u001b[39m(\u001b[38;5;28mself\u001b[39m, X: InT, is_train: \u001b[38;5;28mbool\u001b[39m) \u001b[38;5;241m-\u001b[39m\u001b[38;5;241m>\u001b[39m Tuple[OutT, Callable]:\n\u001b[1;32m    308\u001b[0m \u001b[38;5;250m    \u001b[39m\u001b[38;5;124;03m\"\"\"Call the model's `forward` function, returning the output and a\u001b[39;00m\n\u001b[1;32m    309\u001b[0m \u001b[38;5;124;03m    callback to compute the gradients via backpropagation.\"\"\"\u001b[39;00m\n\u001b[0;32m--> 310\u001b[0m     \u001b[38;5;28;01mreturn\u001b[39;00m \u001b[38;5;28;43mself\u001b[39;49m\u001b[38;5;241;43m.\u001b[39;49m\u001b[43m_func\u001b[49m\u001b[43m(\u001b[49m\u001b[38;5;28;43mself\u001b[39;49m\u001b[43m,\u001b[49m\u001b[43m \u001b[49m\u001b[43mX\u001b[49m\u001b[43m,\u001b[49m\u001b[43m \u001b[49m\u001b[43mis_train\u001b[49m\u001b[38;5;241;43m=\u001b[39;49m\u001b[43mis_train\u001b[49m\u001b[43m)\u001b[49m\n",
      "File \u001b[0;32m~/Desktop/unillm-backend/.venv/lib/python3.10/site-packages/thinc/layers/chain.py:54\u001b[0m, in \u001b[0;36mforward\u001b[0;34m(model, X, is_train)\u001b[0m\n\u001b[1;32m     52\u001b[0m callbacks \u001b[38;5;241m=\u001b[39m []\n\u001b[1;32m     53\u001b[0m \u001b[38;5;28;01mfor\u001b[39;00m layer \u001b[38;5;129;01min\u001b[39;00m model\u001b[38;5;241m.\u001b[39mlayers:\n\u001b[0;32m---> 54\u001b[0m     Y, inc_layer_grad \u001b[38;5;241m=\u001b[39m \u001b[43mlayer\u001b[49m\u001b[43m(\u001b[49m\u001b[43mX\u001b[49m\u001b[43m,\u001b[49m\u001b[43m \u001b[49m\u001b[43mis_train\u001b[49m\u001b[38;5;241;43m=\u001b[39;49m\u001b[43mis_train\u001b[49m\u001b[43m)\u001b[49m\n\u001b[1;32m     55\u001b[0m     callbacks\u001b[38;5;241m.\u001b[39mappend(inc_layer_grad)\n\u001b[1;32m     56\u001b[0m     X \u001b[38;5;241m=\u001b[39m Y\n",
      "    \u001b[0;31m[... skipping similar frames: Model.__call__ at line 310 (1 times)]\u001b[0m\n",
      "File \u001b[0;32m~/Desktop/unillm-backend/.venv/lib/python3.10/site-packages/thinc/layers/chain.py:54\u001b[0m, in \u001b[0;36mforward\u001b[0;34m(model, X, is_train)\u001b[0m\n\u001b[1;32m     52\u001b[0m callbacks \u001b[38;5;241m=\u001b[39m []\n\u001b[1;32m     53\u001b[0m \u001b[38;5;28;01mfor\u001b[39;00m layer \u001b[38;5;129;01min\u001b[39;00m model\u001b[38;5;241m.\u001b[39mlayers:\n\u001b[0;32m---> 54\u001b[0m     Y, inc_layer_grad \u001b[38;5;241m=\u001b[39m \u001b[43mlayer\u001b[49m\u001b[43m(\u001b[49m\u001b[43mX\u001b[49m\u001b[43m,\u001b[49m\u001b[43m \u001b[49m\u001b[43mis_train\u001b[49m\u001b[38;5;241;43m=\u001b[39;49m\u001b[43mis_train\u001b[49m\u001b[43m)\u001b[49m\n\u001b[1;32m     55\u001b[0m     callbacks\u001b[38;5;241m.\u001b[39mappend(inc_layer_grad)\n\u001b[1;32m     56\u001b[0m     X \u001b[38;5;241m=\u001b[39m Y\n",
      "File \u001b[0;32m~/Desktop/unillm-backend/.venv/lib/python3.10/site-packages/thinc/model.py:310\u001b[0m, in \u001b[0;36mModel.__call__\u001b[0;34m(self, X, is_train)\u001b[0m\n\u001b[1;32m    307\u001b[0m \u001b[38;5;28;01mdef\u001b[39;00m\u001b[38;5;250m \u001b[39m\u001b[38;5;21m__call__\u001b[39m(\u001b[38;5;28mself\u001b[39m, X: InT, is_train: \u001b[38;5;28mbool\u001b[39m) \u001b[38;5;241m-\u001b[39m\u001b[38;5;241m>\u001b[39m Tuple[OutT, Callable]:\n\u001b[1;32m    308\u001b[0m \u001b[38;5;250m    \u001b[39m\u001b[38;5;124;03m\"\"\"Call the model's `forward` function, returning the output and a\u001b[39;00m\n\u001b[1;32m    309\u001b[0m \u001b[38;5;124;03m    callback to compute the gradients via backpropagation.\"\"\"\u001b[39;00m\n\u001b[0;32m--> 310\u001b[0m     \u001b[38;5;28;01mreturn\u001b[39;00m \u001b[38;5;28;43mself\u001b[39;49m\u001b[38;5;241;43m.\u001b[39;49m\u001b[43m_func\u001b[49m\u001b[43m(\u001b[49m\u001b[38;5;28;43mself\u001b[39;49m\u001b[43m,\u001b[49m\u001b[43m \u001b[49m\u001b[43mX\u001b[49m\u001b[43m,\u001b[49m\u001b[43m \u001b[49m\u001b[43mis_train\u001b[49m\u001b[38;5;241;43m=\u001b[39;49m\u001b[43mis_train\u001b[49m\u001b[43m)\u001b[49m\n",
      "File \u001b[0;32m~/Desktop/unillm-backend/.venv/lib/python3.10/site-packages/thinc/layers/maxout.py:52\u001b[0m, in \u001b[0;36mforward\u001b[0;34m(model, X, is_train)\u001b[0m\n\u001b[1;32m     50\u001b[0m W \u001b[38;5;241m=\u001b[39m model\u001b[38;5;241m.\u001b[39mget_param(\u001b[38;5;124m\"\u001b[39m\u001b[38;5;124mW\u001b[39m\u001b[38;5;124m\"\u001b[39m)\n\u001b[1;32m     51\u001b[0m W \u001b[38;5;241m=\u001b[39m model\u001b[38;5;241m.\u001b[39mops\u001b[38;5;241m.\u001b[39mreshape2f(W, nO \u001b[38;5;241m*\u001b[39m nP, nI)\n\u001b[0;32m---> 52\u001b[0m Y \u001b[38;5;241m=\u001b[39m \u001b[43mmodel\u001b[49m\u001b[38;5;241;43m.\u001b[39;49m\u001b[43mops\u001b[49m\u001b[38;5;241;43m.\u001b[39;49m\u001b[43mgemm\u001b[49m\u001b[43m(\u001b[49m\u001b[43mX\u001b[49m\u001b[43m,\u001b[49m\u001b[43m \u001b[49m\u001b[43mW\u001b[49m\u001b[43m,\u001b[49m\u001b[43m \u001b[49m\u001b[43mtrans2\u001b[49m\u001b[38;5;241;43m=\u001b[39;49m\u001b[38;5;28;43;01mTrue\u001b[39;49;00m\u001b[43m)\u001b[49m\n\u001b[1;32m     53\u001b[0m Y \u001b[38;5;241m+\u001b[39m\u001b[38;5;241m=\u001b[39m model\u001b[38;5;241m.\u001b[39mops\u001b[38;5;241m.\u001b[39mreshape1f(b, nO \u001b[38;5;241m*\u001b[39m nP)\n\u001b[1;32m     54\u001b[0m Z \u001b[38;5;241m=\u001b[39m model\u001b[38;5;241m.\u001b[39mops\u001b[38;5;241m.\u001b[39mreshape3f(Y, Y\u001b[38;5;241m.\u001b[39mshape[\u001b[38;5;241m0\u001b[39m], nO, nP)\n",
      "\u001b[0;31mKeyboardInterrupt\u001b[0m: "
     ]
    }
   ],
   "source": [
    "main()"
   ]
  },
  {
   "cell_type": "markdown",
   "metadata": {},
   "source": [
    "At this point we have a cleaned json file, we can now convert it to a txt file for storage in a vector database (Alternatively, we can pause here and return later since our data is present locally)"
   ]
  },
  {
   "cell_type": "code",
   "execution_count": 2,
   "metadata": {},
   "outputs": [],
   "source": [
    "from datetime import datetime\n",
    "\n",
    "with open(f'{file_path}_cleaned.json', 'r', encoding='utf-8') as file:\n",
    "    clean_data = json.load(file)\n"
   ]
  },
  {
   "cell_type": "code",
   "execution_count": 3,
   "metadata": {},
   "outputs": [],
   "source": [
    "output_json_path = f\"{file_path}_for_qdrant.json\"\n",
    "\n",
    "if isinstance(clean_data, list):\n",
    "    processed_data = []\n",
    "    for entry in clean_data:\n",
    "        if isinstance(entry, dict) and 'text_content' in entry:\n",
    "            processed_entry = {\n",
    "                'text': entry['text_content'],\n",
    "                'metadata': {\n",
    "                    'url': entry['url'],\n",
    "                    'title': entry['title'],\n",
    "                    'source_type': 'website',\n",
    "                    'date_added': datetime.now().isoformat()\n",
    "                }\n",
    "            }\n",
    "            processed_data.append(processed_entry)\n",
    "            \n",
    "    with open(output_json_path, 'w', encoding='utf-8') as json_file:\n",
    "        json.dump(processed_data, json_file, indent=4)"
   ]
  },
  {
   "cell_type": "markdown",
   "metadata": {},
   "source": [
    "We can now store the data in a vector database. We are using QDRANT."
   ]
  },
  {
   "cell_type": "code",
   "execution_count": 9,
   "metadata": {},
   "outputs": [],
   "source": [
    "from app.utils.storage_utils import query_qdrant\n",
    "from scripts.data_preparation import store_in_qdrant\n",
    "import qdrant_client\n",
    "import os\n",
    "\n",
    "# Get environment variables for Qdrant configuration\n",
    "QDRANT_URL = os.environ['QDRANT_URL']\n",
    "ENVIRONMENT = os.environ['ENVIRONMENT']\n",
    "\n",
    "# Initialize Qdrant client based on environment\n",
    "if ENVIRONMENT == 'dev':\n",
    "    # For local development, connect to localhost\n",
    "    client = qdrant_client.QdrantClient(url=\"http://localhost:6333\")\n",
    "else:\n",
    "    QDRANT_API_KEY = os.environ['QDRANT_API_KEY']\n",
    "    # For production, connect to cloud instance using URL and API key\n",
    "    client = qdrant_client.QdrantClient(\n",
    "        QDRANT_URL,\n",
    "        api_key=QDRANT_API_KEY\n",
    "    )"
   ]
  },
  {
   "cell_type": "code",
   "execution_count": 11,
   "metadata": {},
   "outputs": [
    {
     "name": "stderr",
     "output_type": "stream",
     "text": [
      "Parsing nodes: 100%|██████████| 175/175 [00:00<00:00, 3637.14it/s]\n",
      "Generating embeddings: 100%|██████████| 175/175 [00:07<00:00, 23.88it/s]\n"
     ]
    }
   ],
   "source": [
    "store_in_qdrant(client, \"study-in-germany\", file_path=\"../temporary_folder/handbook_germany_qdrant.json\")"
   ]
  },
  {
   "cell_type": "markdown",
   "metadata": {},
   "source": [
    "We now query the vector database to test if it's working. The LLM will return the most relevant information based on the query. Any information that is not relevant to the query will be ignored."
   ]
  },
  {
   "cell_type": "code",
   "execution_count": 9,
   "metadata": {},
   "outputs": [
    {
     "data": {
      "text/plain": [
       "{'context': '**Studying and Living in Germany: Key Information for Students**\\n\\n**Student Jobs and Working Regulations**\\n\\n1. **Working Hours:** \\n   - If you are on a student visa, you can work up to 120 full days or 240 half days per year. From March 1, 2024, this will increase to 140 full days or 280 half days annually.\\n   - During the lecture period, it is advisable to not exceed 20 working hours per week to maintain your student status.\\n\\n2. **Types of Student Jobs:**\\n   - Common student jobs can be found in sectors such as catering (waitstaff), retail (sales assistants), and education (tutors).\\n   - You can also work as a “student trainee” (Werkstudent) or as a student assistant (\"Hiwi\") within your university.\\n   - Additional resources for job searches include websites like jobmensa.de, studentjob.de, and nebenjob.de.\\n\\n3. **Earnings and Social Security:**\\n   - Students earning less than €538 per month are categorized as having a \"Mini-job\" and generally do not need to pay social security contributions or taxes.\\n   - If you earn between €538.1 and €2000, you are classified with a \"midi job,\" which may require independent health insurance coverage.\\n\\n4. **Vacation Rights:**\\n   - Students are entitled to vacations, generally receiving a minimum of 20 days per year based on a standard five-day work week.\\n\\n5. **Regulations for Part-Time Work:**\\n   - You are allowed to undertake holiday jobs during semester breaks but must not exceed 70 working days to avoid social insurance contributions.\\n   - Earning less than €538 a month means you are exempt from taxes during these jobs.\\n\\n6. **BAföG Eligibility:**\\n   - You can receive BAföG (financial aid) while working, provided your income does not exceed €6456 per year.\\n\\n7. **Minimum Wage:**\\n   - All students are entitled to at least the legal minimum wage, except during compulsory internships or dual study programs.\\n\\n8. **Finding a Part-Time Job:**\\n   - Utilize job search websites specifically targeting student jobs. Many universities also have resources through their Student Union (Studentenwerk) to help find available positions.\\n\\n**Preparing for Job Applications:**\\nFor guidance on job hunting and application processes, be sure to research resources and chapters available through student support networks in Germany. They provide advice and tips tailored to international students.\\n\\nBy familiarizing yourself with these aspects of student life and job opportunities in Germany, you can better navigate your educational journey and establish a fulfilling experience abroad.\\n\\n**Studying and Living in Germany: Essential Information**\\n\\n**Educational Opportunities in Germany**\\n\\n- Germany offers numerous educational opportunities for both local and international students. Various programs are available across universities, vocational schools, and language institutes.\\n- Students can apply for financial support through BAföG, a government assistance program designed to help finance their studies.\\n\\n**Living Conditions in Germany**\\n\\n- Germany has a well-developed social security system. If you are facing financial difficulties, you may be eligible for financial support known as “Bürgergeld,” which provides essential income for residents.\\n- As of January 2024, single adults can receive €563 per month, while married couples can receive €506 per person and children between €357 and €471 depending on their age.\\n\\n**Accommodations**\\n\\n- When looking for housing, it is vital to check with the local Jobcenter to understand rental cost allowances and other potential financial support to cover housing expenses.\\n- You may need to provide written confirmation from your Jobcenter before signing a lease.\\n\\n**Cultural Insights**\\n\\n- Germany is known for its rich cultural heritage and diversity. Understanding local customs and building language skills will enhance your experience living and studying in Germany.\\n- It is advisable to participate in integration courses or job-related German language courses to improve your language skills, which may also be financially supported by the Jobcenter.\\n\\n**Local Resources and Support**\\n\\n- Several organizations and community centers provide guidance and support services for international students and residents. \\n- If you are new to Germany and seek help with navigation through bureaucratic processes, local counselors can assist you in various languages.\\n\\n**Job Search Assistance**\\n\\n- The Jobcenter also supports job seekers through career counseling, job placement services, and financial aids when transitioning into employment.\\n- You are expected to actively seek employment or educational opportunities as part of your integration into the workforce.\\n\\n**Rights and Obligations**\\n\\n- Applying for government help comes with specific obligations, such as staying accessible for appointments and reporting significant changes in your circumstances.\\n- Familiarize yourself with your rights as an employee and resident, especially concerning discrimination and workplace rights.\\n\\n**Conclusion**\\n\\nLiving and studying in Germany not only opens doors to high-quality education but also provides a structured support system for those in need. It is crucial to remain informed about the available resources and remain proactive in integration efforts to make the most of your experience in Germany.\\n\\n## Studying and Living in Germany: Mini-Jobs\\n\\n### Overview of Mini-Jobs\\nMini-jobs are a form of marginal employment in Germany, allowing individuals to earn up to €538 per month. They provide a flexible way for students, pensioners, and others to supplement their income while studying or living in Germany. \\n\\n### Types of Mini-Jobs\\n1. **Mini-Jobs with Income Limit**: These jobs allow you to earn a maximum of €538 per month or €6456 per year. You can earn more than €538 in individual months, but your total annual income must not exceed €6456.\\n   \\n2. **Short-Term Employment**: This type of mini-job is for periods of less than three months or 70 working days per year. There is no income cap, but the employment duration must be short.\\n\\n### Where to Find Mini-Jobs\\nMini-jobs are commonly available in sectors such as catering, retail, and trades, as well as in private households (e.g., cleaning, childcare).\\n\\n### Rights of Mini-Jobbers\\n- Mini-jobbers are entitled to the statutory minimum wage and holiday pay.\\n- Labour law protections apply, ensuring rights similar to other employees.\\n\\n### Social Security Contributions\\n- Mini-jobbers do not have to make social security contributions but can opt out of pension insurance. If contributions are made, this can lead to receiving a small pension in the future.\\n\\n### Health Insurance\\nIt is mandatory for everyone in Germany, including mini-jobbers, to have health insurance. Since mini-jobs do not include social insurance contributions, alternative insurance options like family or student health insurance may be necessary.\\n\\n### Taxation\\n- Income from mini-jobs is subject to flat-rate taxation.\\n- For mini-jobs with an income limit, a flat-rate tax of 2% is applicable.\\n- Short-term employment can be taxed at either a flat rate or individual taxation based on gross income.\\n\\n### Multiple Mini-Jobs\\nYou can hold multiple mini-jobs, but if the combined income exceeds €538 per month or you work longer than permitted durations, you will need to pay social security contributions and may not qualify as a mini-jobber.\\n\\n### Employment Regulations with Unemployment Benefits\\nIf you are receiving unemployment benefits, notifying the relevant authorities about your mini-job is necessary. There are specific income thresholds you must adhere to in order to maintain your benefits.\\n\\n### Midi-Jobs\\nIf your income exceeds €538 and is up to €2000, you would fall under the category of a midi-job, which incurs social security contributions but at a reduced rate compared to regular employment.\\n\\n### Conclusion\\nMini-jobs offer a viable way for students and others to earn extra income while studying or living in Germany. It is essential to understand the regulations surrounding mini-jobs, rights as an employee, and obligations regarding health insurance and taxation to effectively navigate the job market in Germany.\\n\\n**Studying and Living in Germany: A Comprehensive Guide for Students**\\n\\n**Educational Opportunities**\\n\\n1. **Tuition Fees**: Most public universities in Germany do not charge tuition fees; however, students are required to pay a semester fee, which covers administrative costs and may include public transportation services, alongside other living expenses.\\n\\n2. **Financial Aid**: A variety of financial aid options are available for students, including:\\n   - **BAföG**: Financial assistance for students who demonstrate financial need.\\n   - **Scholarships**: Numerous public and private organizations, universities, and states offer scholarships, some specifically for refugees. A database of scholarships can be accessed through the German Academic Exchange Service (DAAD) and other platforms like MyStipendium.\\n\\n3. **Educational Grants**: Several programs support gifted students based on academic performance and social engagement. The National Scholarship (\"Deutschlandstipendium\") provides €300 monthly for outstanding students.\\n\\n4. **Student Loan Programs**: The training loan program (\"Bildungskreditprogramm\") is available for advanced students under 36 years old and covers a financial range suitable for educational needs.\\n\\n**Living Conditions**\\n\\n1. **Accommodation**: \\n   - Students often can find affordable housing options within university student residences, but early registration may be necessary due to limited availability. More information can be found through local student services.\\n\\n2. **Health Insurance**: \\n   - Students under 30 can benefit from reduced rates through statutory health insurance. Those over 30 may need to explore alternative insurance options.\\n\\n3. **Public Transport**: \\n   - Many universities offer \"Semestertickets\" that include public transportation access within city limits, typically included in semester fees.\\n\\n4. **Cost-Saving Tips**: \\n   - Students are encouraged to seek discounts for cultural activities, utilize tax returns for deductions related to educational expenses, and explore regional grants or financial assistance programs.\\n\\n**Cultural Insights and Resources**\\n\\n1. **Political and Social Engagement**: Participation in voluntary services or political activities can improve chances of securing scholarships and support programs.\\n\\n2. **Local Support Services**: Various organizations provide assistance to young refugees and migrants aiming to pursue education in Germany, including educational counseling centers.\\n\\n3. **Relevant Links and Resources**:\\n   - **DAAD**: Database for scholarships.\\n   - **MyStipendium**: Platform to find scholarships.\\n   - **Bildungsberatung Garantiefonds Hochschule**: Support for young refugees and individuals aspiring to study.\\n   - **JMD Youth Migration Service**: Assistance service for young migrants.\\n\\n**Conclusion**\\n\\nGermany offers numerous opportunities for students in terms of financial support, educational access, and community resources. Being informed about available scholarships, financial aid, accommodation, and health insurance will enhance the experience of studying and living in Germany. Always conduct thorough research and engage with local student networks to maximize your educational journey.\\n\\n### Studying and Living in Germany: A Comprehensive Guide\\n\\n#### Educational Opportunities\\nGermany offers various educational programs for international students, including vocational training and academic courses in numerous fields. Many institutions provide services specifically tailored for foreign students, addressing their unique needs.\\n\\n#### Living Conditions\\nLiving in Germany provides a high quality of life with access to modern amenities. The cost of living can vary widely depending on the city or region. Students should consider accommodation options early, including student residences, shared apartments, and private rentals. It\\'s advisable to explore local neighborhoods and find accommodations that suit your budget and preferences.\\n\\n#### Employment Opportunities\\n- **Temporary Employment**: Temporary work (known as \"Leiharbeit\") is a popular option for entering the job market in Germany. Such positions often exist in industries like metal, electronics, logistics, and administration.\\n- **Job Search Tips**: Utilize job search engines and local resources to find temporary employment agencies. These agencies are frequently looking for new employees and can provide valuable work experience.\\n\\n#### Rights and Employment Regulations\\nAs a temporary worker, you have specific rights under German law:\\n- You are entitled to fair wages, including at least the minimum wage, which varies by location.\\n- After a certain period of working in the same company, you may be entitled to the same salary as regular employees.\\n- Employers are required to provide you with a written document outlining your working conditions, including your tasks, salary, and hours.\\n\\n#### Cultural Insights\\nGermany is known for its rich cultural heritage and diverse population. Students and residents can enrich their experience by engaging with local traditions, attending cultural events, and learning the German language. Embracing the culture can significantly enhance your stay in Germany.\\n\\n#### Local Resources\\n- **Counseling Centers**: Organizations like \"Faire Integration\" offer guidance on employee rights and working conditions.\\n- **Anti-Discrimination Agencies**: If facing discrimination based on ethnicity, nationality, or other factors, there are agencies available to provide support.\\n- **Workers\\' Councils**: Each company has a Workers\\' Council to assist employees with workplace issues, ensuring that laws and agreements are respected.\\n\\n### Conclusion\\nGermany presents numerous opportunities for study and work while offering a supportive environment for international students. By understanding your rights, exploring the local culture, and utilizing available resources, you can make the most out of your experience in Germany.',\n",
       " 'sources': [{'url': 'https://handbookgermany.de/en/student-jobs',\n",
       "   'title': 'Student Jobs',\n",
       "   'source_type': 'website',\n",
       "   'date_added': '2024-12-19T11:55:11.082179'},\n",
       "  {'url': 'https://handbookgermany.de/en/jobcenter',\n",
       "   'title': 'Jobcenter',\n",
       "   'source_type': 'website',\n",
       "   'date_added': '2024-12-19T11:55:11.082311'},\n",
       "  {'url': 'https://handbookgermany.de/en/minijob',\n",
       "   'title': '\"Mini-Jobs\" in Germany',\n",
       "   'source_type': 'website',\n",
       "   'date_added': '2024-12-19T11:55:11.082276'},\n",
       "  {'url': 'https://handbookgermany.de/en/student-finance',\n",
       "   'title': 'Student Finance',\n",
       "   'source_type': 'website',\n",
       "   'date_added': '2024-12-19T11:55:11.082381'},\n",
       "  {'url': 'https://handbookgermany.de/en/temporary-work',\n",
       "   'title': 'Subcontracted Jobs',\n",
       "   'source_type': 'website',\n",
       "   'date_added': '2024-12-19T11:55:11.082168'}]}"
      ]
     },
     "execution_count": 9,
     "metadata": {},
     "output_type": "execute_result"
    }
   ],
   "source": [
    "query_qdrant(client, \"study-in-germany\", \"On average how much do student working jobs pay in computer science ?\")"
   ]
  },
  {
   "cell_type": "code",
   "execution_count": 13,
   "metadata": {},
   "outputs": [],
   "source": [
    "result = query_qdrant(client, \"study-in-germany\", \"What rental platform should i use to find an apartment?\")"
   ]
  },
  {
   "cell_type": "code",
   "execution_count": 17,
   "metadata": {},
   "outputs": [
    {
     "data": {
      "text/plain": [
       "{'url': 'https://handbookgermany.de/en/search-a-flat',\n",
       " 'title': 'Searching for a Flat ',\n",
       " 'source_type': 'website',\n",
       " 'date_added': '2024-12-19T11:55:11.082255'}"
      ]
     },
     "execution_count": 17,
     "metadata": {},
     "output_type": "execute_result"
    }
   ],
   "source": [
    "result['sources'][0]"
   ]
  },
  {
   "cell_type": "code",
   "execution_count": 10,
   "metadata": {},
   "outputs": [
    {
     "data": {
      "text/plain": [
       "{'answer': 'Empty Response', 'sources': [], 'scores': []}"
      ]
     },
     "execution_count": 10,
     "metadata": {},
     "output_type": "execute_result"
    }
   ],
   "source": [
    "query_qdrant(client, \"study-in-germany\", \"What is the capital of Algeria\")"
   ]
  },
  {
   "cell_type": "code",
   "execution_count": 7,
   "metadata": {},
   "outputs": [
    {
     "data": {
      "text/plain": [
       "{'success': True,\n",
       " 'message': \"Deleted 100 entries with URLs containing 'handbookgermany.de'\"}"
      ]
     },
     "execution_count": 7,
     "metadata": {},
     "output_type": "execute_result"
    }
   ],
   "source": [
    "from app.utils.storage_utils import delete_from_qdrant_by_url\n",
    "\n",
    "delete_from_qdrant_by_url(client, \"study-in-germany\", \"handbookgermany.de\")"
   ]
  },
  {
   "cell_type": "code",
   "execution_count": null,
   "metadata": {},
   "outputs": [],
   "source": []
  }
 ],
 "metadata": {
  "kernelspec": {
   "display_name": ".venv",
   "language": "python",
   "name": "python3"
  },
  "language_info": {
   "codemirror_mode": {
    "name": "ipython",
    "version": 3
   },
   "file_extension": ".py",
   "mimetype": "text/x-python",
   "name": "python",
   "nbconvert_exporter": "python",
   "pygments_lexer": "ipython3",
   "version": "3.10.17"
  }
 },
 "nbformat": 4,
 "nbformat_minor": 2
}
